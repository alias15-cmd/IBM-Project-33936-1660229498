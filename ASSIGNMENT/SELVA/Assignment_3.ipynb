{
 "cells": [
  {
   "cell_type": "code",
   "execution_count": 21,
   "id": "e3df0991",
   "metadata": {},
   "outputs": [],
   "source": [
    "import tensorflow as tf\n",
    "from tensorflow import keras\n",
    "from keras.models import Sequential\n",
    "from keras.layers import Flatten,Conv2D,MaxPooling2D,Dropout\n",
    "from tensorflow.keras import layers\n",
    "from keras.utils import to_categorical\n",
    "import numpy as np\n",
    "import matplotlib.pyplot as mp\n",
    "\n",
    "from keras.preprocessing.image import ImageDataGenerator\n",
    "import cv2"
   ]
  },
  {
   "cell_type": "markdown",
   "id": "aa344ab1",
   "metadata": {},
   "source": [
    "# IMAGE AUGMENTATION"
   ]
  },
  {
   "cell_type": "code",
   "execution_count": 30,
   "id": "dc37d083",
   "metadata": {},
   "outputs": [
    {
     "name": "stdout",
     "output_type": "stream",
     "text": [
      "Found 4317 images belonging to 5 classes.\n"
     ]
    }
   ],
   "source": [
    "train_augmentation=ImageDataGenerator(rescale=1./255,\n",
    "                                      width_shift_range=0.2,\n",
    "                                      height_shift_range=0.2,\n",
    "                                      zoom_range=0.2,\n",
    "                                      horizontal_flip=True)\n",
    "\n",
    "training_set=train_augmentation.flow_from_directory('training_set',\n",
    "                                                 target_size=(64,64),\n",
    "                                                 batch_size=32,\n",
    "                                                 class_mode='categorical',\n",
    "                                                 shuffle=True)"
   ]
  },
  {
   "cell_type": "code",
   "execution_count": 3,
   "id": "c403ddcd",
   "metadata": {},
   "outputs": [
    {
     "name": "stdout",
     "output_type": "stream",
     "text": [
      "Found 1864 images belonging to 5 classes.\n"
     ]
    }
   ],
   "source": [
    "test_data=ImageDataGenerator(rescale=1./255)\n",
    "test_set=test_data.flow_from_directory('testing_set',\n",
    "                                        target_size=(64,64),\n",
    "                                        batch_size=32,\n",
    "                                        class_mode='categorical')"
   ]
  },
  {
   "cell_type": "markdown",
   "id": "545024e7",
   "metadata": {},
   "source": [
    "# Add layer"
   ]
  },
  {
   "cell_type": "code",
   "execution_count": 4,
   "id": "cabf423e",
   "metadata": {},
   "outputs": [],
   "source": [
    "cnn=tf.keras.models.Sequential()"
   ]
  },
  {
   "cell_type": "code",
   "execution_count": 5,
   "id": "f96b9165",
   "metadata": {},
   "outputs": [],
   "source": [
    "## convolution layer\n",
    "cnn.add(tf.keras.layers.Conv2D(filters=64,kernel_size=3,activation='relu',input_shape=[64,64,3]))\n",
    "## maxpooling\n",
    "cnn.add(tf.keras.layers.MaxPool2D(pool_size=2,strides=2))\n",
    "## flatten\n",
    "cnn.add(tf.keras.layers.Flatten())\n",
    "## dense(hidden layer)\n",
    "cnn.add(tf.keras.layers.Dense(units=128,activation='relu'))\n",
    "## dense(output layer)\n",
    "cnn.add(tf.keras.layers.Dense(units=5,activation='softmax'))"
   ]
  },
  {
   "cell_type": "code",
   "execution_count": 6,
   "id": "1830d40d",
   "metadata": {},
   "outputs": [],
   "source": [
    "cnn.compile(optimizer='rmsprop',loss='categorical_crossentropy',metrics=['accuracy'])"
   ]
  },
  {
   "cell_type": "code",
   "execution_count": 7,
   "id": "5747d446",
   "metadata": {},
   "outputs": [
    {
     "name": "stdout",
     "output_type": "stream",
     "text": [
      "135/135 [==============================] - 50s 362ms/step - loss: 1.7479 - accuracy: 0.4223 - val_loss: 1.2578 - val_accuracy: 0.5080\n"
     ]
    },
    {
     "data": {
      "text/plain": [
       "<keras.callbacks.History at 0x27fa92b8fd0>"
      ]
     },
     "execution_count": 7,
     "metadata": {},
     "output_type": "execute_result"
    }
   ],
   "source": [
    "cnn.fit(x=training_set,validation_data=test_set,epochs=1)"
   ]
  },
  {
   "cell_type": "code",
   "execution_count": 15,
   "id": "dcf8b857",
   "metadata": {},
   "outputs": [
    {
     "name": "stdout",
     "output_type": "stream",
     "text": [
      "1/1 [==============================] - 0s 263ms/step\n"
     ]
    }
   ],
   "source": [
    "from keras.preprocessing import image\n",
    "from tensorflow.keras.utils import load_img,img_to_array\n",
    "test_image=keras.utils.load_img('predication/5547758_eea9edfd54_n.jpg',target_size=(64,64))\n",
    "test_image=keras.utils.img_to_array(test_image)\n",
    "test_image=np.expand_dims(test_image,axis=0)\n",
    "result=cnn.predict(test_image)"
   ]
  },
  {
   "cell_type": "code",
   "execution_count": 18,
   "id": "f885f7ba",
   "metadata": {},
   "outputs": [
    {
     "data": {
      "text/plain": [
       "{'daisy': 0, 'dandelion': 1, 'rose': 2, 'sunflower': 3, 'tulip': 4}"
      ]
     },
     "execution_count": 18,
     "metadata": {},
     "output_type": "execute_result"
    }
   ],
   "source": [
    "training_set.class_indices"
   ]
  },
  {
   "cell_type": "code",
   "execution_count": 24,
   "id": "86041140",
   "metadata": {},
   "outputs": [
    {
     "data": {
      "text/plain": [
       "'categorical'"
      ]
     },
     "execution_count": 24,
     "metadata": {},
     "output_type": "execute_result"
    }
   ],
   "source": [
    "class_name=training_set.class_mode\n",
    "class_name"
   ]
  },
  {
   "cell_type": "code",
   "execution_count": 33,
   "id": "1a3cda4e",
   "metadata": {},
   "outputs": [
    {
     "name": "stdout",
     "output_type": "stream",
     "text": [
      "Model: \"sequential\"\n",
      "_________________________________________________________________\n",
      " Layer (type)                Output Shape              Param #   \n",
      "=================================================================\n",
      " conv2d (Conv2D)             (None, 62, 62, 64)        1792      \n",
      "                                                                 \n",
      " max_pooling2d (MaxPooling2D  (None, 31, 31, 64)       0         \n",
      " )                                                               \n",
      "                                                                 \n",
      " flatten (Flatten)           (None, 61504)             0         \n",
      "                                                                 \n",
      " dense (Dense)               (None, 128)               7872640   \n",
      "                                                                 \n",
      " dense_1 (Dense)             (None, 5)                 645       \n",
      "                                                                 \n",
      "=================================================================\n",
      "Total params: 7,875,077\n",
      "Trainable params: 7,875,077\n",
      "Non-trainable params: 0\n",
      "_________________________________________________________________\n"
     ]
    }
   ],
   "source": [
    "cnn.summary()"
   ]
  },
  {
   "cell_type": "code",
   "execution_count": 19,
   "id": "019d47e1",
   "metadata": {},
   "outputs": [
    {
     "name": "stdout",
     "output_type": "stream",
     "text": [
      "[[1. 0. 0. 0. 0.]]\n"
     ]
    }
   ],
   "source": [
    "print(result)"
   ]
  },
  {
   "cell_type": "code",
   "execution_count": 20,
   "id": "b9877a7e",
   "metadata": {},
   "outputs": [
    {
     "name": "stdout",
     "output_type": "stream",
     "text": [
      "daisy\n"
     ]
    }
   ],
   "source": [
    "if result[0][0]==1:\n",
    "    print('daisy')\n",
    "elif result[0][1]==1:\n",
    "    print('dandelion')\n",
    "elif result[0][2]==1:\n",
    "    print('rose')\n",
    "elif result[0][3]==1:\n",
    "    print('sunflower')\n",
    "elif result[0][4]==1:\n",
    "    print('tulip')"
   ]
  },
  {
   "cell_type": "code",
   "execution_count": null,
   "id": "cff1a282",
   "metadata": {},
   "outputs": [],
   "source": []
  }
 ],
 "metadata": {
  "kernelspec": {
   "display_name": "Python 3 (ipykernel)",
   "language": "python",
   "name": "python3"
  },
  "language_info": {
   "codemirror_mode": {
    "name": "ipython",
    "version": 3
   },
   "file_extension": ".py",
   "mimetype": "text/x-python",
   "name": "python",
   "nbconvert_exporter": "python",
   "pygments_lexer": "ipython3",
   "version": "3.9.7"
  }
 },
 "nbformat": 4,
 "nbformat_minor": 5
}
